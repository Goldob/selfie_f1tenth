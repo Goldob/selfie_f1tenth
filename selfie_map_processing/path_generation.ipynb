{
 "cells": [
  {
   "cell_type": "markdown",
   "metadata": {},
   "source": [
    "## Step one: load map image"
   ]
  },
  {
   "cell_type": "code",
   "execution_count": 1,
   "metadata": {},
   "outputs": [
    {
     "name": "stdout",
     "output_type": "stream",
     "text": [
      "{'origin': [-51.224998, -51.224998, 0.0], 'free_thresh': 0.196, 'occupied_thresh': 0.65, 'negate': 0, 'image': 'mieszkanie_d03.pgm', 'resolution': 0.05}\n",
      "(2048, 2048)\n"
     ]
    },
    {
     "data": {
      "text/plain": [
       "<Figure size 640x480 with 1 Axes>"
      ]
     },
     "metadata": {},
     "output_type": "display_data"
    }
   ],
   "source": [
    "import matplotlib.pyplot as plt\n",
    "import matplotlib.image as mpimg\n",
    "from yaml import load, dump\n",
    "import skimage\n",
    "import os\n",
    "\n",
    "MAPS_DIR = 'maps'\n",
    "\n",
    "map_name = 'mieszkanie_d03'\n",
    "with open(os.path.join(MAPS_DIR, map_name+'.yaml'), 'r') as f:\n",
    "    map_meta = load(f)\n",
    "\n",
    "print(map_meta)\n",
    "map_img = mpimg.imread(os.path.join(MAPS_DIR, map_meta['image']))\n",
    "print(map_img.shape)\n",
    "\n",
    "if map_meta['negate']:\n",
    "    p = map_img / 255.0\n",
    "else:\n",
    "    p = (255 - map_img) / 255.0\n",
    "\n",
    "plt.imshow(p, cmap='gray')\n",
    "plt.show()"
   ]
  },
  {
   "cell_type": "markdown",
   "metadata": {},
   "source": [
    "## Step two: identify occupied and free cells"
   ]
  },
  {
   "cell_type": "code",
   "execution_count": 2,
   "metadata": {},
   "outputs": [
    {
     "data": {
      "image/png": "[encoded data removed]",
      "text/plain": [
       "<Figure size 432x288 with 1 Axes>"
      ]
     },
     "metadata": {
      "needs_background": "light"
     },
     "output_type": "display_data"
    }
   ],
   "source": [
    "import numpy as np\n",
    "\n",
    "occupied = np.zeros_like(map_img)\n",
    "free     = np.zeros_like(map_img)\n",
    "\n",
    "occupied[p > map_meta['occupied_thresh']] = 1.0\n",
    "free[p < map_meta['free_thresh']] = 1.0\n",
    "\n",
    "B = np.argwhere(occupied | free)\n",
    "(ystart, xstart), (ystop, xstop) = B.min(0), B.max(0) + 1\n",
    "\n",
    "free_trim = free[ystart:ystop, xstart:xstop]\n",
    "\n",
    "plt.imshow(free_trim, cmap='gray')\n",
    "plt.show()"
   ]
  },
  {
   "cell_type": "markdown",
   "metadata": {},
   "source": [
    "## Step three: identify center line"
   ]
  },
  {
   "cell_type": "code",
   "execution_count": 3,
   "metadata": {},
   "outputs": [
    {
     "data": {
      "image/png": "[encoded data removed]",
      "text/plain": [
       "<Figure size 432x288 with 1 Axes>"
      ]
     },
     "metadata": {
      "needs_background": "light"
     },
     "output_type": "display_data"
    }
   ],
   "source": [
    "from skimage.morphology import binary_erosion, skeletonize, thin\n",
    "\n",
    "skeleton = skeletonize(free_trim)\n",
    "\n",
    "plt.imshow(skeleton, cmap='gray')\n",
    "plt.show()"
   ]
  },
  {
   "cell_type": "markdown",
   "metadata": {},
   "source": [
    "## Step four: extract pixels belonging to the closed circuit"
   ]
  },
  {
   "cell_type": "code",
   "execution_count": 4,
   "metadata": {},
   "outputs": [
    {
     "data": {
      "image/png": "[encoded data removed]",
      "text/plain": [
       "<Figure size 432x288 with 1 Axes>"
      ]
     },
     "metadata": {
      "needs_background": "light"
     },
     "output_type": "display_data"
    }
   ],
   "source": [
    "from itertools import permutations\n",
    "\n",
    "OFFSETS = [-1, 0, 1]\n",
    "NEIGHBORHOOD = [(dy, dx) for dx in OFFSETS for dy in OFFSETS]\n",
    "\n",
    "available = np.copy(skeleton).astype(np.bool)\n",
    "\n",
    "def dfs(point, target, available, path, remaining_steps=15):\n",
    "    x = point[0]\n",
    "    y = point[1]\n",
    "    \n",
    "    if (remaining_steps == 0) and (point == target).all(): return True\n",
    "    \n",
    "    # Lower & upper bounds\n",
    "    if x < 0 or x >= available.shape[1]: return False\n",
    "    if y < 0 or y >= available.shape[0]: return False\n",
    "    \n",
    "    if not available[y, x]: return False\n",
    "    \n",
    "    remaining_steps = max(0, remaining_steps-1)\n",
    "    \n",
    "    available[y, x] = False\n",
    "    path.append(point)\n",
    "    \n",
    "    for dx, dy in NEIGHBORHOOD:\n",
    "        child_x = x + dx\n",
    "        child_y = y + dy\n",
    "        \n",
    "        if dfs((child_x, child_y), target, available, path, remaining_steps):\n",
    "            return True\n",
    "\n",
    "    path.pop()\n",
    "    return False\n",
    "\n",
    "starting_points = np.transpose(np.nonzero(available))\n",
    "for starting_point in starting_points:\n",
    "    path = []\n",
    "    \n",
    "    if dfs(starting_point[::-1], starting_point[::-1], available, path):\n",
    "        break\n",
    "\n",
    "# TODO Ugly one-time workaround\n",
    "path = path[::-1]        \n",
    "    \n",
    "path_img = np.zeros_like(skeleton)\n",
    "for point in path:\n",
    "    path_img[point[1], point[0]] = 1\n",
    "\n",
    "plt.imshow(path_img, cmap='gray')\n",
    "plt.show()"
   ]
  },
  {
   "cell_type": "markdown",
   "metadata": {},
   "source": [
    "## Step five: for each point, find the closest point on the path"
   ]
  },
  {
   "cell_type": "code",
   "execution_count": 5,
   "metadata": {},
   "outputs": [
    {
     "data": {
      "image/png": "[encoded data removed]",
      "text/plain": [
       "<Figure size 432x288 with 1 Axes>"
      ]
     },
     "metadata": {
      "needs_background": "light"
     },
     "output_type": "display_data"
    }
   ],
   "source": [
    "def get_closest_index(y, x):\n",
    "    point = (x, y)\n",
    "    \n",
    "    return np.argmin(np.sum(np.square(np.array(point) - path), 1))\n",
    "\n",
    "get_closest_indices = np.vectorize(get_closest_index)\n",
    "closests_img = np.fromfunction(get_closest_indices, skeleton.shape)\n",
    "\n",
    "plt.imshow(closests_img)\n",
    "plt.show()"
   ]
  },
  {
   "cell_type": "markdown",
   "metadata": {},
   "source": [
    "## Step five: calculate path direction"
   ]
  },
  {
   "cell_type": "code",
   "execution_count": 6,
   "metadata": {},
   "outputs": [
    {
     "data": {
      "image/png": "[encoded data removed]",
      "text/plain": [
       "<Figure size 432x288 with 1 Axes>"
      ]
     },
     "metadata": {
      "needs_background": "light"
     },
     "output_type": "display_data"
    }
   ],
   "source": [
    "import math\n",
    "\n",
    "LEN_LOOKAHEAD = int(0.5 / map_meta['resolution'])\n",
    "directions = []\n",
    "\n",
    "path_size = len(path)\n",
    "for i in range(path_size):\n",
    "    i_front = int(i + LEN_LOOKAHEAD) % path_size\n",
    "        \n",
    "    dx = path[i_front][0] - path[i][0]\n",
    "    dy = path[i_front][1] - path[i][1]\n",
    "    \n",
    "    angle = math.atan2(-dy, dx)\n",
    "    directions.append(angle)\n",
    "\n",
    "def get_directions(y, x):\n",
    "    point = (x, y)\n",
    "    \n",
    "    closest_point_idx = np.argmin(np.sum(np.square(np.array(point) - path), 1))\n",
    "    \n",
    "    return directions[closest_point_idx]\n",
    "\n",
    "get_directions = np.vectorize(get_directions)\n",
    "directions_img = np.fromfunction(get_directions, skeleton.shape)\n",
    "\n",
    "plt.imshow(directions_img)\n",
    "plt.show()"
   ]
  },
  {
   "cell_type": "markdown",
   "metadata": {},
   "source": [
    "## Step five: calculate offset from lane center "
   ]
  },
  {
   "cell_type": "code",
   "execution_count": 7,
   "metadata": {},
   "outputs": [
    {
     "data": {
      "image/png": "[encoded data removed]",
      "text/plain": [
       "<Figure size 432x288 with 1 Axes>"
      ]
     },
     "metadata": {
      "needs_background": "light"
     },
     "output_type": "display_data"
    },
    {
     "data": {
      "image/png": "[encoded data removed]",
      "text/plain": [
       "<Figure size 432x288 with 1 Axes>"
      ]
     },
     "metadata": {
      "needs_background": "light"
     },
     "output_type": "display_data"
    }
   ],
   "source": [
    "from scipy.ndimage.morphology import binary_fill_holes\n",
    "\n",
    "interior = np.array(binary_fill_holes(path_img))\n",
    "\n",
    "plt.imshow(interior, 'gray')\n",
    "plt.show()\n",
    "\n",
    "def calc_offset(y, x):\n",
    "    point = (x, y)\n",
    "    \n",
    "    closest_point_idx = np.argmin(np.sum(np.square(np.array(point) - path), 1))\n",
    "    closest_point = path[closest_point_idx]\n",
    "    \n",
    "    dist = np.sqrt((x-closest_point[0])**2 + (y-closest_point[1])**2)\n",
    "    \n",
    "    if interior[int(y), int(x)]:\n",
    "        return dist\n",
    "    else:\n",
    "        return -dist\n",
    "\n",
    "calc_offsets = np.vectorize(calc_offset)\n",
    "\n",
    "offsets = np.fromfunction(calc_offsets, interior.shape) * map_meta['resolution']\n",
    "\n",
    "plt.imshow(offsets)\n",
    "plt.show()"
   ]
  },
  {
   "cell_type": "markdown",
   "metadata": {},
   "source": [
    "## Calculate road width"
   ]
  },
  {
   "cell_type": "code",
   "execution_count": 8,
   "metadata": {},
   "outputs": [
    {
     "data": {
      "image/png": "[encoded data removed]",
      "text/plain": [
       "<Figure size 432x288 with 1 Axes>"
      ]
     },
     "metadata": {
      "needs_background": "light"
     },
     "output_type": "display_data"
    },
    {
     "name": "stdout",
     "output_type": "stream",
     "text": [
      "[ 0.76157731  0.7         0.7         0.7         0.7         0.7         0.7\n",
      "  0.7         0.6         0.6         0.6         0.6         0.6         0.6\n",
      "  0.6         0.6         0.6         0.67082039  0.58309519  0.7         0.5\n",
      "  0.6         0.64031242  0.56568542  0.64031242  0.70710678  0.64031242\n",
      "  0.58309519  0.5         0.63245553  0.63245553  0.58309519  0.64031242\n",
      "  0.58309519  0.56568542  0.56568542  0.56568542  0.56568542  0.56568542\n",
      "  0.56568542  0.56568542  0.5         0.67082039  0.78102497  0.70710678\n",
      "  0.78102497  0.92195445  1.34164079  0.41231056  1.45602198  0.2\n",
      "  1.34164079  0.4472136   1.11803399  0.98994949  0.56568542  0.5\n",
      "  0.70710678  0.80622577  0.5         0.58309519  0.63245553  0.5\n",
      "  0.56568542  0.53851648  0.5         0.2         0.50990195  0.4472136\n",
      "  0.4         0.4         0.4         0.4         0.5         0.5         0.3\n",
      "  0.4472136   0.4472136   0.4         0.4         0.4         0.4         0.4\n",
      "  0.4         0.4         0.4         0.4         0.4         0.4         0.4\n",
      "  0.4         0.5         0.5         0.3         0.4472136   0.63245553\n",
      "  0.6         0.6         0.72801099  0.5         0.5         0.5         0.6\n",
      "  0.58309519  0.58309519  0.63245553  0.53851648  0.64031242  0.56568542\n",
      "  0.56568542  0.56568542  0.5         0.53851648  0.4472136   0.4472136\n",
      "  0.41231056  0.41231056  0.4472136   0.36055513  0.53851648  0.5\n",
      "  0.70710678  0.2         0.50990195  0.8         0.5         0.4\n",
      "  0.58309519  0.82462113  0.8         0.5         0.6         0.72801099\n",
      "  0.90553851  0.5         0.4         0.2         1.26491106  0.1         0.5\n",
      "  0.84852814  0.84852814  0.84852814  0.70710678  0.70710678  0.56568542\n",
      "  0.4         0.4         0.7         0.6         0.5         0.5         0.6\n",
      "  0.6         0.6         0.5         0.5         0.63245553  0.58309519\n",
      "  0.5         0.5         0.5         0.58309519]\n"
     ]
    }
   ],
   "source": [
    "widths = np.zeros_like(directions)\n",
    "\n",
    "closests_img_masked = (closests_img + 1) * free_trim\n",
    "plt.imshow(closests_img_masked)\n",
    "plt.show()\n",
    "\n",
    "for y, x in np.transpose(np.nonzero(closests_img_masked)):\n",
    "    path_idx = closests_img[y, x]\n",
    "    widths[path_idx] = max(widths[path_idx], 2*np.abs(offsets[y, x]))\n",
    "\n",
    "print(widths)"
   ]
  },
  {
   "cell_type": "markdown",
   "metadata": {},
   "source": [
    "## Step six: Save results to file"
   ]
  },
  {
   "cell_type": "code",
   "execution_count": 9,
   "metadata": {},
   "outputs": [],
   "source": [
    "import pickle\n",
    "\n",
    "data = {}\n",
    "\n",
    "res = map_meta['resolution']\n",
    "\n",
    "data['resolution'] = res\n",
    "data['origin'] = [\n",
    "    map_meta['origin'][0] + xstart * res,\n",
    "    map_meta['origin'][1] + (map_img.shape[0] - ystop - 1) * res\n",
    "]\n",
    "\n",
    "data['directions'] = directions\n",
    "data['pathpoints'] = [\n",
    "    (data['origin'][0] + x*res, data['origin'][1] + (closests_img.shape[0] - y - 1)*res)\n",
    "    for x, y in path\n",
    "]\n",
    "data['widths'] = widths\n",
    "\n",
    "data['closests'] = closests_img\n",
    "data['offsets'] = offsets\n",
    "\n",
    "with open(map_name+'.pkl', 'wb') as f:\n",
    "    pickle.dump(data, f, 2)"
   ]
  },
  {
   "cell_type": "code",
   "execution_count": null,
   "metadata": {},
   "outputs": [],
   "source": []
  }
 ],
 "metadata": {
  "kernelspec": {
   "display_name": "Python 2",
   "language": "python",
   "name": "python2"
  },
  "language_info": {
   "codemirror_mode": {
    "name": "ipython",
    "version": 2
   },
   "file_extension": ".py",
   "mimetype": "text/x-python",
   "name": "python",
   "nbconvert_exporter": "python",
   "pygments_lexer": "ipython2",
   "version": "2.7.12"
  }
 },
 "nbformat": 4,
 "nbformat_minor": 2
}
